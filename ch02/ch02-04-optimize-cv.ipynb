{
 "cells": [
  {
   "cell_type": "code",
   "execution_count": 1,
   "metadata": {},
   "outputs": [],
   "source": [
    "import numpy as np\n",
    "import pandas as pd"
   ]
  },
  {
   "cell_type": "markdown",
   "metadata": {},
   "source": [
    "# out-of-foldでの閾値の最適化"
   ]
  },
  {
   "cell_type": "code",
   "execution_count": 12,
   "metadata": {},
   "outputs": [],
   "source": [
    "from scipy.optimize import minimize\n",
    "from sklearn.metrics import f1_score\n",
    "from sklearn.model_selection import KFold"
   ]
  },
  {
   "cell_type": "code",
   "execution_count": 3,
   "metadata": {},
   "outputs": [],
   "source": [
    "rand = np.random.RandomState(seed = 71)\n",
    "train_y_prob = np.linspace(0, 1.0, 10000)"
   ]
  },
  {
   "cell_type": "markdown",
   "metadata": {},
   "source": [
    "サンプルデータ生成の準備"
   ]
  },
  {
   "cell_type": "code",
   "execution_count": 13,
   "metadata": {},
   "outputs": [],
   "source": [
    "train_y = pd.Series(rand.uniform(0.0, 1.0, train_y_prob.size) < train_y_prob)\n",
    "train_pred_prob = np.clip(train_y_prob * np.exp(rand.standard_normal(train_y_prob.shape) * 0.3), 0.0, 1.0)"
   ]
  },
  {
   "cell_type": "markdown",
   "metadata": {},
   "source": [
    "真の値と予測値がtrain_y, train_pred_probであったとする"
   ]
  },
  {
   "cell_type": "code",
   "execution_count": 19,
   "metadata": {},
   "outputs": [
    {
     "name": "stdout",
     "output_type": "stream",
     "text": [
      "0.35253906249999983 0.753810082063306 0.7546230440967283\n",
      "0.35234374999999984 0.7534586732884001 0.7555401662049861\n",
      "0.3601562499999999 0.7519829525275246 0.7578872740163063\n",
      "0.3527343749999998 0.7567061028464332 0.7453637660485021\n"
     ]
    }
   ],
   "source": [
    "thresholds = []\n",
    "scores_tr = []\n",
    "scores_va = []\n",
    "\n",
    "kf = KFold(n_splits = 4, random_state = 71, shuffle = True)\n",
    "for i, (tr_idx, va_idx) in enumerate(kf.split(train_pred_prob)):\n",
    "    tr_pred_prob, va_pred_prob = train_pred_prob[tr_idx], train_pred_prob[va_idx]\n",
    "    tr_y, va_y = train_y.iloc[tr_idx], train_y.iloc[va_idx]\n",
    "    \n",
    "    #最適化の目的関数を設定\n",
    "    def f1_opt(x):\n",
    "        return -f1_score(tr_y, tr_pred_prob >= x)\n",
    "    \n",
    "    #学習データで閾値の最適化を行い、バリデーションデータで評価を行う\n",
    "    result = minimize(f1_opt, x0 = np.array([0.5]), method = 'Nelder-Mead')\n",
    "    threshold = result['x'].item()\n",
    "    score_tr = f1_score(tr_y, tr_pred_prob >= threshold)\n",
    "    score_va = f1_score(va_y, va_pred_prob >= threshold)\n",
    "    print(threshold, score_tr, score_va)\n",
    "    \n",
    "    thresholds.append(threshold)\n",
    "    scores_tr.append(score_tr)\n",
    "    scores_va.append(score_va)"
   ]
  },
  {
   "cell_type": "markdown",
   "metadata": {},
   "source": [
    "クロスバリデーションの枠組みで閾値を求める。"
   ]
  },
  {
   "cell_type": "code",
   "execution_count": 20,
   "metadata": {},
   "outputs": [
    {
     "name": "stdout",
     "output_type": "stream",
     "text": [
      "0.3544433593749999\n"
     ]
    }
   ],
   "source": [
    "threshold_test = np.mean(thresholds)\n",
    "print(threshold_test)"
   ]
  },
  {
   "cell_type": "markdown",
   "metadata": {},
   "source": [
    "各foldの閾値の平均をテストデータには適用する。"
   ]
  }
 ],
 "metadata": {
  "kernelspec": {
   "display_name": "Python 3 (ipykernel)",
   "language": "python",
   "name": "python3"
  },
  "language_info": {
   "codemirror_mode": {
    "name": "ipython",
    "version": 3
   },
   "file_extension": ".py",
   "mimetype": "text/x-python",
   "name": "python",
   "nbconvert_exporter": "python",
   "pygments_lexer": "ipython3",
   "version": "3.9.12"
  }
 },
 "nbformat": 4,
 "nbformat_minor": 4
}
