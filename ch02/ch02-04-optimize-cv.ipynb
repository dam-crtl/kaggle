{
 "cells": [
  {
   "cell_type": "code",
   "execution_count": 1,
   "metadata": {},
   "outputs": [],
   "source": [
    "import numpy as np\n",
    "import pandas as pd"
   ]
  },
  {
   "cell_type": "markdown",
   "metadata": {},
   "source": [
    "# out-of-foldでの閾値の最適化"
   ]
  },
  {
   "cell_type": "code",
   "execution_count": 12,
   "metadata": {},
   "outputs": [],
   "source": [
    "from scipy.optimize import minimize\n",
    "from sklearn.metrics import f1_score\n",
    "from sklearn.model_selection import KFold"
   ]
  },
  {
   "cell_type": "code",
   "execution_count": 3,
   "metadata": {},
   "outputs": [],
   "source": [
    "rand = np.random.RandomState(seed = 71)\n",
    "train_y_prob = np.linspace(0, 1.0, 10000)"
   ]
  },
  {
   "cell_type": "markdown",
   "metadata": {},
   "source": [
    "サンプルデータ生成の準備"
   ]
  },
  {
   "cell_type": "code",
   "execution_count": 13,
   "metadata": {},
   "outputs": [],
   "source": [
    "train_y = pd.Series(rand.uniform(0.0, 1.0, train_y_prob.size) < train_y_prob)\n",
    "train_pred_prob = np.clip(train_y_prob * np.exp(rand.standard_normal(train_y_prob.shape) * 0.3), 0.0, 1.0)"
   ]
  },
  {
   "cell_type": "markdown",
   "metadata": {},
   "source": [
    "真の値と予測値が以下のtrain_y, train_pred_probであったとする"
   ]
  },
  {
   "cell_type": "code",
   "execution_count": 18,
   "metadata": {},
   "outputs": [
    {
     "ename": "NameError",
     "evalue": "name 'trainpred_prob' is not defined",
     "output_type": "error",
     "traceback": [
      "\u001b[0;31m---------------------------------------------------------------------------\u001b[0m",
      "\u001b[0;31mNameError\u001b[0m                                 Traceback (most recent call last)",
      "Input \u001b[0;32mIn [18]\u001b[0m, in \u001b[0;36m<cell line: 6>\u001b[0;34m()\u001b[0m\n\u001b[1;32m      5\u001b[0m kf \u001b[38;5;241m=\u001b[39m KFold(n_splits \u001b[38;5;241m=\u001b[39m \u001b[38;5;241m4\u001b[39m, random_state \u001b[38;5;241m=\u001b[39m \u001b[38;5;241m71\u001b[39m, shuffle \u001b[38;5;241m=\u001b[39m \u001b[38;5;28;01mTrue\u001b[39;00m)\n\u001b[1;32m      6\u001b[0m \u001b[38;5;28;01mfor\u001b[39;00m i, (tr_idx, va_idx) \u001b[38;5;129;01min\u001b[39;00m \u001b[38;5;28menumerate\u001b[39m(kf\u001b[38;5;241m.\u001b[39msplit(train_pred_prob)):\n\u001b[0;32m----> 7\u001b[0m     tr_pred_prob, va_pred_prob \u001b[38;5;241m=\u001b[39m train_pred_prob[tr_idx], \u001b[43mtrainpred_prob\u001b[49m[va_idx]\n\u001b[1;32m      8\u001b[0m     tr_y, va_y \u001b[38;5;241m=\u001b[39m train_y\u001b[38;5;241m.\u001b[39miloc[tr_idx], train_y\u001b[38;5;241m.\u001b[39miloc[va_dx]\n\u001b[1;32m     10\u001b[0m     \u001b[38;5;66;03m#最適化の目的関数を設定\u001b[39;00m\n",
      "\u001b[0;31mNameError\u001b[0m: name 'trainpred_prob' is not defined"
     ]
    }
   ],
   "source": [
    "thresholds = []\n",
    "scores_tr = []\n",
    "scores_va = []\n",
    "\n",
    "kf = KFold(n_splits = 4, random_state = 71, shuffle = True)\n",
    "for i, (tr_idx, va_idx) in enumerate(kf.split(train_pred_prob)):\n",
    "    tr_pred_prob, va_pred_prob = train_pred_prob[tr_idx], trainpred_prob[va_idx]\n",
    "    tr_y, va_y = train_y.iloc[tr_idx], train_y.iloc[va_dx]\n",
    "    \n",
    "    #最適化の目的関数を設定\n",
    "    def f1_opt(x):\n",
    "        return -f1_score(tr_y, tr_pred_prob >= x)\n",
    "    \n",
    "    #学習データで閾値の最適化を行い、バリデーションデータで評価を行う\n",
    "    result = minimize(f1_opt, x0 = np.array([0.5]), method = 'Nelder-Mead')\n",
    "    threshold = result['x'].item()\n",
    "    score_tr = f1_score(tr_y, tr_pred_prob >= threshold)\n",
    "    score_va = f1_score(va_y, va_pred_prob >= threshold)\n",
    "    print(threshold, score_tr, score_va)\n",
    "    \n",
    "    thresholds.append(threshold)\n",
    "    scores_tr.append(score_tr)\n",
    "    scores_va.append(score_va)"
   ]
  },
  {
   "cell_type": "markdown",
   "metadata": {},
   "source": [
    "クロスバリデーションの枠組みで閾値を求める。"
   ]
  },
  {
   "cell_type": "code",
   "execution_count": 8,
   "metadata": {},
   "outputs": [
    {
     "name": "stdout",
     "output_type": "stream",
     "text": [
      "0.5 0.6422267481330618\n"
     ]
    }
   ],
   "source": [
    "threshold_test = np.mean(thresholds)\n",
    "print(threshold_test)"
   ]
  },
  {
   "cell_type": "markdown",
   "metadata": {},
   "source": [
    "各foldの閾値の平均をテストデータには適用する。"
   ]
  },
  {
   "cell_type": "code",
   "execution_count": 9,
   "metadata": {},
   "outputs": [],
   "source": [
    "def f1_opt(x):\n",
    "    return -f1_score(train_y, train_pred_prob >= x)"
   ]
  },
  {
   "cell_type": "markdown",
   "metadata": {},
   "source": [
    "最適化の目的関数を設定"
   ]
  },
  {
   "cell_type": "code",
   "execution_count": null,
   "metadata": {},
   "outputs": [],
   "source": [
    "result"
   ]
  }
 ],
 "metadata": {
  "kernelspec": {
   "display_name": "Python 3 (ipykernel)",
   "language": "python",
   "name": "python3"
  },
  "language_info": {
   "codemirror_mode": {
    "name": "ipython",
    "version": 3
   },
   "file_extension": ".py",
   "mimetype": "text/x-python",
   "name": "python",
   "nbconvert_exporter": "python",
   "pygments_lexer": "ipython3",
   "version": "3.9.12"
  }
 },
 "nbformat": 4,
 "nbformat_minor": 4
}
