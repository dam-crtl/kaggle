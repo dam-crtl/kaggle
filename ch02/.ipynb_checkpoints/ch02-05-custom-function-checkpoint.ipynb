{
 "cells": [
  {
   "cell_type": "code",
   "execution_count": 1,
   "metadata": {},
   "outputs": [],
   "source": [
    "import numpy as np\n",
    "import pandas as pd"
   ]
  },
  {
   "cell_type": "markdown",
   "metadata": {},
   "source": [
    "# カスタム目的関数での評価指標の矜持によるMAEの最適化"
   ]
  },
  {
   "cell_type": "code",
   "execution_count": 2,
   "metadata": {},
   "outputs": [],
   "source": [
    "def fair(preds, dtrain):\n",
    "    x = preds - dtrain.get_labels() #残差を取得\n",
    "    c = 1.0 #紅梅の式の分母を計算\n",
    "    den = abs(x) + c #勾配の式の分母を計算\n",
    "    grad = c * x / den #勾配\n",
    "    hess = c * c / den ** 2 #二階微分値\n",
    "    return grad, hess"
   ]
  },
  {
   "cell_type": "markdown",
   "metadata": {},
   "source": [
    "Fair関数"
   ]
  },
  {
   "cell_type": "code",
   "execution_count": 6,
   "metadata": {},
   "outputs": [],
   "source": [
    "def psuedo_huber(preds, dtrain):\n",
    "    d = preds - dtrain.get_labels() #残差を取得\n",
    "    delta = 1.0 #Puseudo-Huber関数のパラメータ\n",
    "    scale = 1 + (d / delta) ** 2\n",
    "    scale_sqrt = np.sqrt(scale)\n",
    "    grad = d / scale_sqrt #勾配\n",
    "    hess = 1 / scale / scale_sqrt #二階微分値\n",
    "    return grad, hess"
   ]
  },
  {
   "cell_type": "markdown",
   "metadata": {},
   "source": [
    "Pseudo-hurber関数"
   ]
  }
 ],
 "metadata": {
  "kernelspec": {
   "display_name": "Python 3 (ipykernel)",
   "language": "python",
   "name": "python3"
  },
  "language_info": {
   "codemirror_mode": {
    "name": "ipython",
    "version": 3
   },
   "file_extension": ".py",
   "mimetype": "text/x-python",
   "name": "python",
   "nbconvert_exporter": "python",
   "pygments_lexer": "ipython3",
   "version": "3.9.12"
  }
 },
 "nbformat": 4,
 "nbformat_minor": 4
}
