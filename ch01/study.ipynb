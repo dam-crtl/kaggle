{
 "cells": [
  {
   "cell_type": "code",
   "execution_count": 25,
   "id": "bfb4fc94",
   "metadata": {},
   "outputs": [],
   "source": [
    "from sklearn.linear_model import LogisticRegression\n",
    "from sklearn.preprocessing import OneHotEncoder\n",
    "import itertools\n",
    "from sklearn.model_selection import KFold\n",
    "from sklearn.metrics import log_loss, accuracy_score\n",
    "from xgboost import XGBClassifier\n",
    "from sklearn.preprocessing import LabelEncoder\n",
    "import numpy as np\n",
    "import pandas as pd"
   ]
  },
  {
   "cell_type": "markdown",
   "id": "ad51855d-2461-4f8b-8340-36cb7f116afe",
   "metadata": {},
   "source": [
    "まずは導入\\\n",
    "「esc + h」でショートカットの確認\\\n",
    "「esc + m」でマークダウンに変更\\\n",
    "「esc + y」でコードに変更"
   ]
  },
  {
   "cell_type": "code",
   "execution_count": 4,
   "id": "8a8d4cee",
   "metadata": {},
   "outputs": [],
   "source": [
    "train = pd.read_csv('../input/ch01-titanic/train.csv')\n",
    "test = pd.read_csv('../input/ch01-titanic/test.csv')"
   ]
  },
  {
   "cell_type": "markdown",
   "id": "d3d1e19c",
   "metadata": {},
   "source": [
    "学習データ、テストデータの読み込みを行なっている。"
   ]
  },
  {
   "cell_type": "code",
   "execution_count": 5,
   "id": "1c17641c",
   "metadata": {},
   "outputs": [],
   "source": [
    "train_x = train.drop(['Survived'], axis = 1)\n",
    "train_y = train['Survived']"
   ]
  },
  {
   "cell_type": "markdown",
   "id": "1028c729",
   "metadata": {},
   "source": [
    "学習データは特徴量と目的変数に分けている。"
   ]
  },
  {
   "cell_type": "code",
   "execution_count": 6,
   "id": "5dfb2cac",
   "metadata": {
    "tags": []
   },
   "outputs": [],
   "source": [
    "test_x = test.copy()"
   ]
  },
  {
   "cell_type": "markdown",
   "id": "747ad68c",
   "metadata": {},
   "source": [
    "テストデータは特徴量のみなのでそのままコピーしている。\n",
    "pythonのコピーについて「deepcopy」とかいうのがあるらしくcopyとの違いがわからないので参考urlを貼っておく。\n",
    "https://murashun.jp/article/programming/python/python-list-copy-deepcopy.html"
   ]
  },
  {
   "cell_type": "markdown",
   "id": "67ae949f",
   "metadata": {},
   "source": [
    "# 特徴量作成"
   ]
  },
  {
   "cell_type": "code",
   "execution_count": 7,
   "id": "b96fe62c",
   "metadata": {},
   "outputs": [],
   "source": [
    "train_x = train_x.drop(['PassengerId'], axis = 1)\n",
    "test_x = test_x.drop(['PassengerId'], axis = 1)"
   ]
  },
  {
   "cell_type": "markdown",
   "id": "9cef4cec",
   "metadata": {},
   "source": [
    "変数PassengerIdを除外している。"
   ]
  },
  {
   "cell_type": "code",
   "execution_count": 8,
   "id": "b26b6294",
   "metadata": {},
   "outputs": [],
   "source": [
    "train_x = train_x.drop(['Name', 'Ticket', 'Cabin'], axis = 1)\n",
    "test_x = test_x.drop(['Name', 'Ticket', 'Cabin'], axis = 1)"
   ]
  },
  {
   "cell_type": "markdown",
   "id": "28afc5bc",
   "metadata": {},
   "source": [
    "変数Name, Ticket, Cabinを除外する。"
   ]
  },
  {
   "cell_type": "code",
   "execution_count": 9,
   "id": "fcab4fc6",
   "metadata": {},
   "outputs": [],
   "source": [
    "for c in ['Sex', 'Embarked']:\n",
    "    # 学習データに基づいてどう変換するかを定める\n",
    "    le = LabelEncoder()\n",
    "    le.fit(train_x[c].fillna('NA'))\n",
    "    \n",
    "    # 学習データ、テストデータを変換する\n",
    "    train_x[c] = le.transform(train_x[c].fillna('NA'))\n",
    "    test_x[c] = le.transform(test_x[c].fillna('NA'))"
   ]
  },
  {
   "cell_type": "markdown",
   "id": "9bb23b88",
   "metadata": {},
   "source": [
    "それぞれのカテゴリ変数にlabel encodeingを適用している。\n",
    "\n",
    "Label Encoder:　データ（特にラベル、質的データについて数値に変換する）\n",
    "le.fit(data):学習\n",
    "le.transform(data):適応\n",
    "\n",
    "説明url:https://scikit-learn.org/stable/modules/generated/sklearn.preprocessing.LabelEncoder.html"
   ]
  },
  {
   "cell_type": "markdown",
   "id": "0583cb47-f294-4737-8c41-ef4b0f329512",
   "metadata": {},
   "source": [
    "# モデル作成"
   ]
  },
  {
   "cell_type": "code",
   "execution_count": 10,
   "id": "ce140164-f011-4448-868e-2121f246696a",
   "metadata": {},
   "outputs": [
    {
     "data": {
      "text/plain": [
       "XGBClassifier(base_score=0.5, booster='gbtree', callbacks=None,\n",
       "              colsample_bylevel=1, colsample_bynode=1, colsample_bytree=1,\n",
       "              early_stopping_rounds=None, enable_categorical=False,\n",
       "              eval_metric=None, gamma=0, gpu_id=-1, grow_policy='depthwise',\n",
       "              importance_type=None, interaction_constraints='',\n",
       "              learning_rate=0.300000012, max_bin=256, max_cat_to_onehot=4,\n",
       "              max_delta_step=0, max_depth=6, max_leaves=0, min_child_weight=1,\n",
       "              missing=nan, monotone_constraints='()', n_estimators=20, n_jobs=0,\n",
       "              num_parallel_tree=1, predictor='auto', random_state=71,\n",
       "              reg_alpha=0, reg_lambda=1, ...)"
      ]
     },
     "execution_count": 10,
     "metadata": {},
     "output_type": "execute_result"
    }
   ],
   "source": [
    "model = XGBClassifier(n_estimators = 20, random_state = 71)\n",
    "model.fit(train_x, train_y)"
   ]
  },
  {
   "cell_type": "markdown",
   "id": "a5545a00-248a-47e7-8a1b-cffbfa52a977",
   "metadata": {},
   "source": [
    "モデルの生成および学習データの予測値を確率で出力する。"
   ]
  },
  {
   "cell_type": "code",
   "execution_count": 11,
   "id": "a91f0886-06ea-460c-9f15-3a0367b6377c",
   "metadata": {},
   "outputs": [],
   "source": [
    "pred = model.predict_proba(test_x)[:, 1]"
   ]
  },
  {
   "cell_type": "markdown",
   "id": "84c0cba6-91cf-433e-a2be-b68b59a037ea",
   "metadata": {},
   "source": [
    "テストデータ予測値を確率で出力する。"
   ]
  },
  {
   "cell_type": "code",
   "execution_count": 12,
   "id": "3a72f664-d54b-4c6b-8f5a-5ac91895791d",
   "metadata": {},
   "outputs": [],
   "source": [
    "pred_label = np.where(pred > 0.5, 1, 0)"
   ]
  },
  {
   "cell_type": "markdown",
   "id": "ecc27090-6021-4bc3-b398-bf0cda4a0c34",
   "metadata": {},
   "source": [
    "テストデータの予測値を二値に変換する。"
   ]
  },
  {
   "cell_type": "code",
   "execution_count": 13,
   "id": "265734c4-342f-4276-8e9c-b57c9fca1575",
   "metadata": {},
   "outputs": [],
   "source": [
    "submission = pd.DataFrame(\n",
    "    {'PassengerId': test['PassengerId'], 'Survived': pred_label})\n",
    "submission.to_csv('submission_first.csv', index = False)"
   ]
  },
  {
   "cell_type": "markdown",
   "id": "8b670eb9-3e44-48d6-8680-d524cb94c521",
   "metadata": {},
   "source": [
    "スコア:0.7799(本書中の数値と異なる可能性がある)"
   ]
  },
  {
   "cell_type": "markdown",
   "id": "9770179f-b282-4090-a7da-152a2dec0fae",
   "metadata": {},
   "source": [
    "# バリデーション"
   ]
  },
  {
   "cell_type": "code",
   "execution_count": 14,
   "id": "1203c36d-9fac-4ba2-9e34-655b6f3e3a02",
   "metadata": {},
   "outputs": [],
   "source": [
    "scores_accuracy = []\n",
    "scores_logloss = []"
   ]
  },
  {
   "cell_type": "markdown",
   "id": "3a5277c7-7a07-4579-9c1c-132e76445b86",
   "metadata": {},
   "source": [
    "各foldのスコアを保存するリスト"
   ]
  },
  {
   "cell_type": "code",
   "execution_count": 15,
   "id": "fb83ac9c-cc3e-4533-bf7a-a9d4a417c79a",
   "metadata": {},
   "outputs": [],
   "source": [
    "kf = KFold(n_splits = 4, shuffle = True, random_state = 71)\n",
    "for tr_idx, va_idx in kf.split(train_x):\n",
    "    # 学習データを学習データとバリデーションデータに分ける\n",
    "    tr_x, va_x = train_x.iloc[tr_idx], train_x.iloc[va_idx]\n",
    "    tr_y, va_y = train_y.iloc[tr_idx], train_y.iloc[va_idx]\n",
    "    \n",
    "    #モデルの学習を行う\n",
    "    model = XGBClassifier(n_estimators = 20, random_state = 71)\n",
    "    model.fit(tr_x, tr_y)\n",
    "    \n",
    "    #バリデーションデータの予測値を確率で出力する\n",
    "    va_pred = model.predict_proba(va_x)[:, 1]\n",
    "    \n",
    "    #バリデーションデータでのスコアを計算する\n",
    "    logloss = log_loss(va_y, va_pred)\n",
    "    accuracy = accuracy_score(va_y, va_pred > 0.5)\n",
    "    \n",
    "    #そのfoldのスコアを保存する\n",
    "    scores_logloss.append(accuracy)\n",
    "    scores_accuracy.append(accuracy)"
   ]
  },
  {
   "cell_type": "markdown",
   "id": "1934a0bc-def6-49ce-9e4e-d0f373b9e494",
   "metadata": {},
   "source": [
    "クロスバリデーションを行う。\n",
    "学習データを４つに分割し、うち１つをバリデーションデータとすることを、バリデーションデータを変えて繰り返す。"
   ]
  },
  {
   "cell_type": "code",
   "execution_count": 16,
   "id": "273c214d-d63c-4f43-aba3-459572e1497a",
   "metadata": {},
   "outputs": [
    {
     "name": "stdout",
     "output_type": "stream",
     "text": [
      "logloss:0.8182, accuracy: 0.8182\n"
     ]
    }
   ],
   "source": [
    "logloss = np.mean(scores_logloss)\n",
    "accuracy = np.mean(scores_accuracy)\n",
    "print(f'logloss:{logloss:.4f}, accuracy: {accuracy:.4f}')"
   ]
  },
  {
   "cell_type": "markdown",
   "id": "267c1113-bb0d-44d4-8c0a-1b7d09a74c96",
   "metadata": {},
   "source": [
    "# モデルチューニング"
   ]
  },
  {
   "cell_type": "code",
   "execution_count": 17,
   "id": "d9fb4008-4819-4b7b-bec2-0c3b6ede0b5f",
   "metadata": {},
   "outputs": [],
   "source": [
    "param_space = {\n",
    "    'max_depth':[3, 5, 7],\n",
    "    'min_child_weight':[1.0, 2.0, 4.0]\n",
    "}"
   ]
  },
  {
   "cell_type": "markdown",
   "id": "1dc3d2dc-7822-474e-9ee6-96146a92b092",
   "metadata": {},
   "source": [
    "チューニング候補とするパラメータを準備する"
   ]
  },
  {
   "cell_type": "code",
   "execution_count": 18,
   "id": "a3c11ef3-964b-4fd8-9978-7a82597a0c4f",
   "metadata": {},
   "outputs": [],
   "source": [
    "param_combinations = itertools.product(\n",
    "    param_space['max_depth'], param_space['min_child_weight'])"
   ]
  },
  {
   "cell_type": "markdown",
   "id": "8069cd67-129f-4fe7-b275-82b7d2f4f79a",
   "metadata": {},
   "source": [
    "探索するハイパーパラメータの組み合わせ"
   ]
  },
  {
   "cell_type": "code",
   "execution_count": 19,
   "id": "8334c38e-d715-48eb-a0c8-20817e2b0474",
   "metadata": {},
   "outputs": [],
   "source": [
    "params = []\n",
    "scores = []"
   ]
  },
  {
   "cell_type": "markdown",
   "id": "3a59e2f4-095c-4814-b9ab-5d12244d3359",
   "metadata": {},
   "source": [
    "各パラメータの組み合わせ、それに対するスコアを保存するリスト"
   ]
  },
  {
   "cell_type": "code",
   "execution_count": 20,
   "id": "fa56d9fe-0743-410b-a075-54f61728c029",
   "metadata": {
    "jupyter": {
     "source_hidden": true
    },
    "tags": []
   },
   "outputs": [],
   "source": [
    "for max_depth, min_child_weight in param_combinations:\n",
    "    score_folds = []\n",
    "    #クロスバリデーションを行う\n",
    "    #学習データを4つに分割し、うち1つをバリデーションデータとすることを、バリデーションデータを変えて繰り返す。\n",
    "    \n",
    "    kf = KFold(n_splits = 4, shuffle = True, random_state = 123456)\n",
    "    for tr_idx, va_idx in kf.split(train_x):\n",
    "        #学習データを学習データとバリデーションデータに分ける\n",
    "        tr_x, va_x = train_x.iloc[tr_idx], train_x.iloc[va_idx]\n",
    "        tr_y, va_y = train_y.iloc[tr_idx], train_y.iloc[va_idx]\n",
    "        \n",
    "        #モデルの学習を行う\n",
    "        model = XGBClassifier(n_estimators = 20, random_state = 71,\n",
    "                              max_depth = max_depth, min_child_weight = min_child_weight)\n",
    "        model.fit(tr_x, tr_y)\n",
    "        \n",
    "        #バリデーションデータでのスコアを計算し、保存する。\n",
    "        va_pred = model.predict_proba(va_x)[:, 1]\n",
    "        logloss = log_loss(va_y, va_pred)\n",
    "        score_folds.append(logloss)\n",
    "        \n",
    "    #各foldのスコアを平均する\n",
    "    score_mean = np.mean(score_folds)\n",
    "    \n",
    "    #バラメータの組み合わせ、それに対するスコアを保存する\n",
    "    params.append((max_depth, min_child_weight))\n",
    "    scores.append(score_mean)"
   ]
  },
  {
   "cell_type": "markdown",
   "id": "8e5994da-529d-40ed-b5dc-b999e96f465d",
   "metadata": {},
   "source": [
    "各パラメータの組み合わせごとに、クロスバリデーションで評価を行う。出力された結果が最適のmax_depthとmin_child_weight"
   ]
  },
  {
   "cell_type": "code",
   "execution_count": 22,
   "id": "8f3f5088-2451-4f03-9890-0f89d8ad5359",
   "metadata": {},
   "outputs": [
    {
     "name": "stdout",
     "output_type": "stream",
     "text": [
      "max_depth: 3, min_child_weight: 2.0\n"
     ]
    }
   ],
   "source": [
    "best_idx = np.argsort(scores)[0]\n",
    "best_param = params[best_idx]\n",
    "print(f'max_depth: {best_param[0]}, min_child_weight: {best_param[1]}')"
   ]
  },
  {
   "cell_type": "markdown",
   "id": "117bacdb-a7a0-4ae6-ab20-4952547f51be",
   "metadata": {},
   "source": [
    "# ロジスティック回帰用の特徴量の作成"
   ]
  },
  {
   "cell_type": "code",
   "execution_count": 24,
   "id": "8ed55747-6ea8-42d3-867f-b5e129843734",
   "metadata": {},
   "outputs": [],
   "source": [
    "train_x2 = train.drop(['Survived'], axis = 1)\n",
    "text_x2 = test.copy()"
   ]
  },
  {
   "cell_type": "markdown",
   "id": "488a806a-71b6-42dc-b872-21f8bc8f4333",
   "metadata": {},
   "source": [
    "元データをコピーする。"
   ]
  },
  {
   "cell_type": "code",
   "execution_count": null,
   "id": "03c8da38-04d0-4ee6-ad47-96facb347f05",
   "metadata": {},
   "outputs": [],
   "source": []
  }
 ],
 "metadata": {
  "kernelspec": {
   "display_name": "Python 3 (ipykernel)",
   "language": "python",
   "name": "python3"
  },
  "language_info": {
   "codemirror_mode": {
    "name": "ipython",
    "version": 3
   },
   "file_extension": ".py",
   "mimetype": "text/x-python",
   "name": "python",
   "nbconvert_exporter": "python",
   "pygments_lexer": "ipython3",
   "version": "3.9.12"
  },
  "toc-showmarkdowntxt": false,
  "vscode": {
   "interpreter": {
    "hash": "7c7da24df9ed2709a5963e01e5c694b36f4218b9d893e201635b9542b8c007e8"
   }
  }
 },
 "nbformat": 4,
 "nbformat_minor": 5
}
