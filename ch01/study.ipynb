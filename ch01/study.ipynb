{
 "cells": [
  {
   "cell_type": "code",
   "execution_count": 5,
   "id": "bfb4fc94",
   "metadata": {},
   "outputs": [],
   "source": [
    "from sklearn.linear_model import LogisticRegression\n",
    "from sklearn.preprocessing import OneHotEncoder\n",
    "import itertools\n",
    "from sklearn.model_selection import KFold\n",
    "from sklearn.metrics import log_loss, accuracy_score\n",
    "from xgboost import XGBClassifier\n",
    "from sklearn.preprocessing import LabelEncoder\n",
    "import numpy as np\n",
    "import pandas as pd"
   ]
  },
  {
   "cell_type": "markdown",
   "id": "2c152be6",
   "metadata": {},
   "source": [
    "まずは導入  \n",
    "Macの環境では「esc + h」でショートカットを確認可能  \n",
    "「esc + m」でマークダウンに変更可能  \n",
    "「esc + y」でコードに変更可能"
   ]
  },
  {
   "cell_type": "code",
   "execution_count": 6,
   "id": "8a8d4cee",
   "metadata": {},
   "outputs": [],
   "source": [
    "train = pd.read_csv('../input/ch01-titanic/train.csv')\n",
    "test = pd.read_csv('../input/ch01-titanic/test.csv')"
   ]
  },
  {
   "cell_type": "markdown",
   "id": "d3d1e19c",
   "metadata": {},
   "source": [
    "学習データ、テストデータの読み込みを行なっている。"
   ]
  },
  {
   "cell_type": "code",
   "execution_count": 7,
   "id": "1c17641c",
   "metadata": {},
   "outputs": [],
   "source": [
    "train_x = train.drop(['Survived'], axis = 1)\n",
    "train_y = train['Survived']"
   ]
  },
  {
   "cell_type": "markdown",
   "id": "1028c729",
   "metadata": {},
   "source": [
    "学習データは特徴量と目的変数に分けている。"
   ]
  },
  {
   "cell_type": "code",
   "execution_count": 8,
   "id": "5dfb2cac",
   "metadata": {
    "tags": []
   },
   "outputs": [],
   "source": [
    "test_x = test.copy()"
   ]
  },
  {
   "cell_type": "markdown",
   "id": "747ad68c",
   "metadata": {},
   "source": [
    "テストデータは特徴量のみなのでそのままコピーしている。\n",
    "pythonのコピーについて「deepcopy」とかいうのがあるらしくcopyとの違いがわからないので参考urlを貼っておく。\n",
    "https://murashun.jp/article/programming/python/python-list-copy-deepcopy.html"
   ]
  },
  {
   "cell_type": "markdown",
   "id": "67ae949f",
   "metadata": {},
   "source": [
    "# 特徴量作成"
   ]
  },
  {
   "cell_type": "code",
   "execution_count": 9,
   "id": "b96fe62c",
   "metadata": {},
   "outputs": [],
   "source": [
    "train_x = train_x.drop(['PassengerId'], axis = 1)\n",
    "test_x = test_x.drop(['PassengerId'], axis = 1)"
   ]
  },
  {
   "cell_type": "markdown",
   "id": "9cef4cec",
   "metadata": {},
   "source": [
    "変数PassengerIdを除外している。"
   ]
  },
  {
   "cell_type": "code",
   "execution_count": 10,
   "id": "b26b6294",
   "metadata": {},
   "outputs": [],
   "source": [
    "train_x = train_x.drop(['Name', 'Ticket', 'Cabin'], axis = 1)\n",
    "test_x = test_x.drop(['Name', 'Ticket', 'Cabin'], axis = 1)"
   ]
  },
  {
   "cell_type": "markdown",
   "id": "28afc5bc",
   "metadata": {},
   "source": [
    "変数Name, Ticket, Cabinを除外する。"
   ]
  },
  {
   "cell_type": "code",
   "execution_count": 11,
   "id": "fcab4fc6",
   "metadata": {},
   "outputs": [],
   "source": [
    "for c in ['Sex', 'Embarked']:\n",
    "    # 学習データに基づいてどう変換するかを定める\n",
    "    le = LabelEncoder()\n",
    "    le.fit(train_x[c].fillna('NA'))\n",
    "    \n",
    "    # 学習データ、テストデータを変換する\n",
    "    train_x[c] = le.transform(train_x[c].fillna('NA'))\n",
    "    test_x[c] = le.transform(test_x[c].fillna('NA'))"
   ]
  },
  {
   "cell_type": "markdown",
   "id": "9bb23b88",
   "metadata": {},
   "source": [
    "それぞれのカテゴリ変数にlabel encodeingを適用している。\n",
    "\n",
    "Label Encoder:　データ（特にラベル、質的データについて数値に変換する）\n",
    "le.fit(data):学習\n",
    "le.transform(data):適応\n",
    "\n",
    "説明url:https://scikit-learn.org/stable/modules/generated/sklearn.preprocessing.LabelEncoder.html"
   ]
  },
  {
   "cell_type": "markdown",
   "id": "0583cb47-f294-4737-8c41-ef4b0f329512",
   "metadata": {},
   "source": [
    "# モデル作成"
   ]
  },
  {
   "cell_type": "code",
   "execution_count": 12,
   "id": "ce140164-f011-4448-868e-2121f246696a",
   "metadata": {},
   "outputs": [
    {
     "data": {
      "text/plain": [
       "XGBClassifier(base_score=0.5, booster='gbtree', callbacks=None,\n",
       "              colsample_bylevel=1, colsample_bynode=1, colsample_bytree=1,\n",
       "              early_stopping_rounds=None, enable_categorical=False,\n",
       "              eval_metric=None, gamma=0, gpu_id=-1, grow_policy='depthwise',\n",
       "              importance_type=None, interaction_constraints='',\n",
       "              learning_rate=0.300000012, max_bin=256, max_cat_to_onehot=4,\n",
       "              max_delta_step=0, max_depth=6, max_leaves=0, min_child_weight=1,\n",
       "              missing=nan, monotone_constraints='()', n_estimators=20, n_jobs=0,\n",
       "              num_parallel_tree=1, predictor='auto', random_state=71,\n",
       "              reg_alpha=0, reg_lambda=1, ...)"
      ]
     },
     "execution_count": 12,
     "metadata": {},
     "output_type": "execute_result"
    }
   ],
   "source": [
    "model = XGBClassifier(n_estimators = 20, random_state = 71)\n",
    "model.fit(train_x, train_y)"
   ]
  },
  {
   "cell_type": "markdown",
   "id": "a5545a00-248a-47e7-8a1b-cffbfa52a977",
   "metadata": {},
   "source": [
    "モデルの生成および学習データの予測値を確率で出力する。"
   ]
  },
  {
   "cell_type": "code",
   "execution_count": 13,
   "id": "a91f0886-06ea-460c-9f15-3a0367b6377c",
   "metadata": {},
   "outputs": [],
   "source": [
    "pred = model.predict_proba(test_x)[:, 1]"
   ]
  },
  {
   "cell_type": "markdown",
   "id": "84c0cba6-91cf-433e-a2be-b68b59a037ea",
   "metadata": {},
   "source": [
    "テストデータ予測値を確率で出力する。"
   ]
  },
  {
   "cell_type": "code",
   "execution_count": 15,
   "id": "3a72f664-d54b-4c6b-8f5a-5ac91895791d",
   "metadata": {},
   "outputs": [],
   "source": [
    "pred_label = np.where(pred > 0.5, 1, 0)"
   ]
  },
  {
   "cell_type": "markdown",
   "id": "ecc27090-6021-4bc3-b398-bf0cda4a0c34",
   "metadata": {},
   "source": [
    "テストデータの予測値を二値に変換する。"
   ]
  },
  {
   "cell_type": "code",
   "execution_count": 18,
   "id": "265734c4-342f-4276-8e9c-b57c9fca1575",
   "metadata": {},
   "outputs": [],
   "source": [
    "submission = pd.DataFrame(\n",
    "    {'PassengerId': test['PassengerId'], 'Survived': pred_label})\n",
    "submission.to_csv('submission_first.csv', index = False)"
   ]
  },
  {
   "cell_type": "markdown",
   "id": "8b670eb9-3e44-48d6-8680-d524cb94c521",
   "metadata": {},
   "source": [
    "スコア:0.7799(本書中の数値と異なる可能性がある)"
   ]
  },
  {
   "cell_type": "markdown",
   "id": "9770179f-b282-4090-a7da-152a2dec0fae",
   "metadata": {},
   "source": [
    "# バリデーション"
   ]
  },
  {
   "cell_type": "code",
   "execution_count": 21,
   "id": "1203c36d-9fac-4ba2-9e34-655b6f3e3a02",
   "metadata": {},
   "outputs": [],
   "source": [
    "scores_accuracy = []\n",
    "scores_logloss = []"
   ]
  },
  {
   "cell_type": "markdown",
   "id": "3a5277c7-7a07-4579-9c1c-132e76445b86",
   "metadata": {},
   "source": [
    "各foldのスコアを保存するリスト"
   ]
  },
  {
   "cell_type": "code",
   "execution_count": 24,
   "id": "0ef96e08-8e69-45de-a3de-17207d876312",
   "metadata": {},
   "outputs": [
    {
     "ename": "TypeError",
     "evalue": "__init__() got an unexpected keyword argument 'randam_state'",
     "output_type": "error",
     "traceback": [
      "\u001b[0;31m---------------------------------------------------------------------------\u001b[0m",
      "\u001b[0;31mTypeError\u001b[0m                                 Traceback (most recent call last)",
      "Input \u001b[0;32mIn [24]\u001b[0m, in \u001b[0;36m<cell line: 1>\u001b[0;34m()\u001b[0m\n\u001b[0;32m----> 1\u001b[0m kf \u001b[38;5;241m=\u001b[39m \u001b[43mKFold\u001b[49m\u001b[43m(\u001b[49m\u001b[43mn_splits\u001b[49m\u001b[43m \u001b[49m\u001b[38;5;241;43m=\u001b[39;49m\u001b[43m \u001b[49m\u001b[38;5;241;43m4\u001b[39;49m\u001b[43m,\u001b[49m\u001b[43m \u001b[49m\u001b[43mshuffle\u001b[49m\u001b[43m \u001b[49m\u001b[38;5;241;43m=\u001b[39;49m\u001b[43m \u001b[49m\u001b[38;5;28;43;01mTrue\u001b[39;49;00m\u001b[43m,\u001b[49m\u001b[43m \u001b[49m\u001b[43mrandam_state\u001b[49m\u001b[43m \u001b[49m\u001b[38;5;241;43m=\u001b[39;49m\u001b[43m \u001b[49m\u001b[38;5;241;43m71\u001b[39;49m\u001b[43m)\u001b[49m\n\u001b[1;32m      2\u001b[0m \u001b[38;5;28;01mfor\u001b[39;00m tr_idx, va_idx \u001b[38;5;129;01min\u001b[39;00m kf\u001b[38;5;241m.\u001b[39msplit(train_x):\n\u001b[1;32m      3\u001b[0m     \u001b[38;5;66;03m# 学習データを学習データとバリデーションデータに分ける\u001b[39;00m\n\u001b[1;32m      4\u001b[0m     tr_x, va_x \u001b[38;5;241m=\u001b[39m train_x\u001b[38;5;241m.\u001b[39miloc[tr_idx], train_x\u001b[38;5;241m.\u001b[39miloc[va_idx]\n",
      "\u001b[0;31mTypeError\u001b[0m: __init__() got an unexpected keyword argument 'randam_state'"
     ]
    }
   ],
   "source": [
    "kf = KFold(n_splits = 4, shuffle = True, randam_state = 71)\n",
    "for tr_idx, va_idx in kf.split(train_x):\n",
    "    # 学習データを学習データとバリデーションデータに分ける\n",
    "    tr_x, va_x = train_x.iloc[tr_idx], train_x.iloc[va_idx]\n",
    "    tr_y, va_y = train_y.iloc[tr_idx], tarin_y.iloc[va_idx]\n",
    "    \n",
    "    #モデルの学習を行う\n",
    "    model = XGBClassifier(n_estimators = 20, random_state = 71)\n",
    "    model.fit(tr_x, tr_y)\n",
    "    \n",
    "    #バリデーションデータの予測値を確率で出力する\n",
    "    va_pred = model.predict_prob(va_x)[:, 1]\n",
    "    \n",
    "    #バリデーションデータでのスコアを計算する\n",
    "    logloss = log_loss(va_y, va_pred)\n",
    "    accuracy = accuracy_score(va_y, va_pred > 0.5)\n",
    "    \n",
    "    #そのfoldのスコアを保存する\n",
    "    scores_logloss.a"
   ]
  },
  {
   "cell_type": "code",
   "execution_count": null,
   "id": "fd0c8bb5-903a-4140-8cab-6ac2e48a5868",
   "metadata": {},
   "outputs": [],
   "source": []
  }
 ],
 "metadata": {
  "kernelspec": {
   "display_name": "Python 3 (ipykernel)",
   "language": "python",
   "name": "python3"
  },
  "language_info": {
   "codemirror_mode": {
    "name": "ipython",
    "version": 3
   },
   "file_extension": ".py",
   "mimetype": "text/x-python",
   "name": "python",
   "nbconvert_exporter": "python",
   "pygments_lexer": "ipython3",
   "version": "3.9.12"
  },
  "toc-showmarkdowntxt": false,
  "vscode": {
   "interpreter": {
    "hash": "7c7da24df9ed2709a5963e01e5c694b36f4218b9d893e201635b9542b8c007e8"
   }
  }
 },
 "nbformat": 4,
 "nbformat_minor": 5
}
