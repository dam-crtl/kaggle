{
 "cells": [
  {
   "cell_type": "code",
   "execution_count": 46,
   "id": "bfb4fc94",
   "metadata": {},
   "outputs": [],
   "source": [
    "from sklearn.linear_model import LogisticRegression\n",
    "from sklearn.preprocessing import OneHotEncoder\n",
    "import itertools\n",
    "from sklearn.model_selection import KFold\n",
    "from sklearn.metrics import log_loss, accuracy_score\n",
    "from xgboost import XGBClassifier\n",
    "from sklearn.preprocessing import LabelEncoder\n",
    "import numpy as np\n",
    "import pandas as pd"
   ]
  },
  {
   "cell_type": "markdown",
   "id": "ad51855d-2461-4f8b-8340-36cb7f116afe",
   "metadata": {},
   "source": [
    "まずは導入\\\n",
    "「esc + h」でショートカットの確認\\\n",
    "「esc + m」でマークダウンに変更\\\n",
    "「esc + y」でコードに変更"
   ]
  },
  {
   "cell_type": "markdown",
   "id": "b944ead8-5915-4fb2-9933-e99cd1187c82",
   "metadata": {},
   "source": [
    "# 学習データ、テストデータの読み込み"
   ]
  },
  {
   "cell_type": "code",
   "execution_count": 47,
   "id": "8a8d4cee",
   "metadata": {},
   "outputs": [],
   "source": [
    "train = pd.read_csv('../input/ch01-titanic/train.csv')\n",
    "test = pd.read_csv('../input/ch01-titanic/test.csv')"
   ]
  },
  {
   "cell_type": "markdown",
   "id": "d3d1e19c",
   "metadata": {},
   "source": [
    "学習データ、テストデータの読み込みを行なっている。"
   ]
  },
  {
   "cell_type": "code",
   "execution_count": 48,
   "id": "1c17641c",
   "metadata": {},
   "outputs": [],
   "source": [
    "train_x = train.drop(['Survived'], axis = 1)\n",
    "train_y = train['Survived']"
   ]
  },
  {
   "cell_type": "markdown",
   "id": "1028c729",
   "metadata": {},
   "source": [
    "学習データは特徴量と目的変数に分けている。"
   ]
  },
  {
   "cell_type": "code",
   "execution_count": 49,
   "id": "5dfb2cac",
   "metadata": {
    "tags": []
   },
   "outputs": [],
   "source": [
    "test_x = test.copy()"
   ]
  },
  {
   "cell_type": "markdown",
   "id": "747ad68c",
   "metadata": {},
   "source": [
    "テストデータは特徴量のみなのでそのままコピーしている。\n",
    "pythonのコピーについて「deepcopy」とかいうのがあるらしくcopyとの違いがわからないので参考urlを貼っておく。\n",
    "https://murashun.jp/article/programming/python/python-list-copy-deepcopy.html"
   ]
  },
  {
   "cell_type": "markdown",
   "id": "67ae949f",
   "metadata": {},
   "source": [
    "# 特徴量作成"
   ]
  },
  {
   "cell_type": "code",
   "execution_count": 50,
   "id": "b96fe62c",
   "metadata": {},
   "outputs": [],
   "source": [
    "train_x = train_x.drop(['PassengerId'], axis = 1)\n",
    "test_x = test_x.drop(['PassengerId'], axis = 1)"
   ]
  },
  {
   "cell_type": "markdown",
   "id": "9cef4cec",
   "metadata": {},
   "source": [
    "変数PassengerIdを除外している。"
   ]
  },
  {
   "cell_type": "code",
   "execution_count": 51,
   "id": "b26b6294",
   "metadata": {},
   "outputs": [],
   "source": [
    "train_x = train_x.drop(['Name', 'Ticket', 'Cabin'], axis = 1)\n",
    "test_x = test_x.drop(['Name', 'Ticket', 'Cabin'], axis = 1)"
   ]
  },
  {
   "cell_type": "markdown",
   "id": "28afc5bc",
   "metadata": {},
   "source": [
    "変数Name, Ticket, Cabinを除外する。"
   ]
  },
  {
   "cell_type": "code",
   "execution_count": 52,
   "id": "fcab4fc6",
   "metadata": {},
   "outputs": [],
   "source": [
    "for c in ['Sex', 'Embarked']:\n",
    "    # 学習データに基づいてどう変換するかを定める\n",
    "    le = LabelEncoder()\n",
    "    le.fit(train_x[c].fillna('NA'))\n",
    "    \n",
    "    # 学習データ、テストデータを変換する\n",
    "    train_x[c] = le.transform(train_x[c].fillna('NA'))\n",
    "    test_x[c] = le.transform(test_x[c].fillna('NA'))"
   ]
  },
  {
   "cell_type": "markdown",
   "id": "9bb23b88",
   "metadata": {},
   "source": [
    "それぞれのカテゴリ変数にlabel encodeingを適用している。\n",
    "\n",
    "Label Encoder:　データ（特にラベル、質的データについて数値に変換する）\n",
    "le.fit(data):学習\n",
    "le.transform(data):適応\n",
    "\n",
    "説明url:https://scikit-learn.org/stable/modules/generated/sklearn.preprocessing.LabelEncoder.html"
   ]
  },
  {
   "cell_type": "markdown",
   "id": "0583cb47-f294-4737-8c41-ef4b0f329512",
   "metadata": {},
   "source": [
    "# モデル作成"
   ]
  },
  {
   "cell_type": "code",
   "execution_count": 53,
   "id": "ce140164-f011-4448-868e-2121f246696a",
   "metadata": {},
   "outputs": [
    {
     "data": {
      "text/plain": [
       "XGBClassifier(base_score=0.5, booster='gbtree', callbacks=None,\n",
       "              colsample_bylevel=1, colsample_bynode=1, colsample_bytree=1,\n",
       "              early_stopping_rounds=None, enable_categorical=False,\n",
       "              eval_metric=None, gamma=0, gpu_id=-1, grow_policy='depthwise',\n",
       "              importance_type=None, interaction_constraints='',\n",
       "              learning_rate=0.300000012, max_bin=256, max_cat_to_onehot=4,\n",
       "              max_delta_step=0, max_depth=6, max_leaves=0, min_child_weight=1,\n",
       "              missing=nan, monotone_constraints='()', n_estimators=20, n_jobs=0,\n",
       "              num_parallel_tree=1, predictor='auto', random_state=71,\n",
       "              reg_alpha=0, reg_lambda=1, ...)"
      ]
     },
     "execution_count": 53,
     "metadata": {},
     "output_type": "execute_result"
    }
   ],
   "source": [
    "model = XGBClassifier(n_estimators = 20, random_state = 71)\n",
    "model.fit(train_x, train_y)"
   ]
  },
  {
   "cell_type": "markdown",
   "id": "a5545a00-248a-47e7-8a1b-cffbfa52a977",
   "metadata": {},
   "source": [
    "モデルの生成および学習データを与えての学習。"
   ]
  },
  {
   "cell_type": "code",
   "execution_count": 54,
   "id": "a91f0886-06ea-460c-9f15-3a0367b6377c",
   "metadata": {},
   "outputs": [],
   "source": [
    "pred = model.predict_proba(test_x)[:, 1]"
   ]
  },
  {
   "cell_type": "markdown",
   "id": "84c0cba6-91cf-433e-a2be-b68b59a037ea",
   "metadata": {},
   "source": [
    "テストデータ予測値を確率で出力する。"
   ]
  },
  {
   "cell_type": "code",
   "execution_count": 55,
   "id": "3a72f664-d54b-4c6b-8f5a-5ac91895791d",
   "metadata": {},
   "outputs": [],
   "source": [
    "pred_label = np.where(pred > 0.5, 1, 0)"
   ]
  },
  {
   "cell_type": "markdown",
   "id": "ecc27090-6021-4bc3-b398-bf0cda4a0c34",
   "metadata": {},
   "source": [
    "テストデータの予測値を二値に変換する。"
   ]
  },
  {
   "cell_type": "code",
   "execution_count": 56,
   "id": "265734c4-342f-4276-8e9c-b57c9fca1575",
   "metadata": {},
   "outputs": [],
   "source": [
    "submission = pd.DataFrame(\n",
    "    {'PassengerId': test['PassengerId'], 'Survived': pred_label})\n",
    "submission.to_csv('submission_first.csv', index = False)"
   ]
  },
  {
   "cell_type": "markdown",
   "id": "8b670eb9-3e44-48d6-8680-d524cb94c521",
   "metadata": {},
   "source": [
    "提出用ファイルの作成\\\n",
    "スコア:0.7799(本書中の数値と異なる可能性がある)"
   ]
  },
  {
   "cell_type": "markdown",
   "id": "9770179f-b282-4090-a7da-152a2dec0fae",
   "metadata": {},
   "source": [
    "# バリデーション"
   ]
  },
  {
   "cell_type": "code",
   "execution_count": 57,
   "id": "1203c36d-9fac-4ba2-9e34-655b6f3e3a02",
   "metadata": {},
   "outputs": [],
   "source": [
    "scores_accuracy = []\n",
    "scores_logloss = []"
   ]
  },
  {
   "cell_type": "markdown",
   "id": "3a5277c7-7a07-4579-9c1c-132e76445b86",
   "metadata": {},
   "source": [
    "各foldのスコアを保存するリスト"
   ]
  },
  {
   "cell_type": "code",
   "execution_count": 58,
   "id": "fb83ac9c-cc3e-4533-bf7a-a9d4a417c79a",
   "metadata": {},
   "outputs": [],
   "source": [
    "kf = KFold(n_splits = 4, shuffle = True, random_state = 71)\n",
    "for tr_idx, va_idx in kf.split(train_x):\n",
    "    # 学習データを学習データとバリデーションデータに分ける\n",
    "    tr_x, va_x = train_x.iloc[tr_idx], train_x.iloc[va_idx]\n",
    "    tr_y, va_y = train_y.iloc[tr_idx], train_y.iloc[va_idx]\n",
    "    \n",
    "    #モデルの学習を行う\n",
    "    model = XGBClassifier(n_estimators = 20, random_state = 71)\n",
    "    model.fit(tr_x, tr_y)\n",
    "    \n",
    "    #バリデーションデータの予測値を確率で出力する\n",
    "    va_pred = model.predict_proba(va_x)[:, 1]\n",
    "    \n",
    "    #バリデーションデータでのスコアを計算する\n",
    "    logloss = log_loss(va_y, va_pred)\n",
    "    accuracy = accuracy_score(va_y, va_pred > 0.5)\n",
    "    \n",
    "    #そのfoldのスコアを保存する\n",
    "    scores_logloss.append(accuracy)\n",
    "    scores_accuracy.append(accuracy)"
   ]
  },
  {
   "cell_type": "markdown",
   "id": "1934a0bc-def6-49ce-9e4e-d0f373b9e494",
   "metadata": {},
   "source": [
    "クロスバリデーションを行う。\n",
    "学習データを４つに分割し、うち１つをバリデーションデータとすることを、バリデーションデータを変えて繰り返す。"
   ]
  },
  {
   "cell_type": "code",
   "execution_count": 59,
   "id": "273c214d-d63c-4f43-aba3-459572e1497a",
   "metadata": {},
   "outputs": [
    {
     "name": "stdout",
     "output_type": "stream",
     "text": [
      "logloss:0.8182, accuracy: 0.8182\n"
     ]
    }
   ],
   "source": [
    "logloss = np.mean(scores_logloss)\n",
    "accuracy = np.mean(scores_accuracy)\n",
    "print(f'logloss:{logloss:.4f}, accuracy: {accuracy:.4f}')"
   ]
  },
  {
   "cell_type": "markdown",
   "id": "267c1113-bb0d-44d4-8c0a-1b7d09a74c96",
   "metadata": {},
   "source": [
    "# モデルチューニング"
   ]
  },
  {
   "cell_type": "code",
   "execution_count": 60,
   "id": "d9fb4008-4819-4b7b-bec2-0c3b6ede0b5f",
   "metadata": {},
   "outputs": [],
   "source": [
    "param_space = {\n",
    "    'max_depth':[3, 5, 7],\n",
    "    'min_child_weight':[1.0, 2.0, 4.0]\n",
    "}"
   ]
  },
  {
   "cell_type": "markdown",
   "id": "1dc3d2dc-7822-474e-9ee6-96146a92b092",
   "metadata": {},
   "source": [
    "チューニング候補とするパラメータを準備する"
   ]
  },
  {
   "cell_type": "code",
   "execution_count": 61,
   "id": "a3c11ef3-964b-4fd8-9978-7a82597a0c4f",
   "metadata": {},
   "outputs": [],
   "source": [
    "param_combinations = itertools.product(\n",
    "    param_space['max_depth'], param_space['min_child_weight'])"
   ]
  },
  {
   "cell_type": "markdown",
   "id": "8069cd67-129f-4fe7-b275-82b7d2f4f79a",
   "metadata": {},
   "source": [
    "探索するハイパーパラメータの組み合わせ"
   ]
  },
  {
   "cell_type": "code",
   "execution_count": 62,
   "id": "8334c38e-d715-48eb-a0c8-20817e2b0474",
   "metadata": {},
   "outputs": [],
   "source": [
    "params = []\n",
    "scores = []"
   ]
  },
  {
   "cell_type": "markdown",
   "id": "3a59e2f4-095c-4814-b9ab-5d12244d3359",
   "metadata": {},
   "source": [
    "各パラメータの組み合わせ、それに対するスコアを保存するリスト"
   ]
  },
  {
   "cell_type": "code",
   "execution_count": 83,
   "id": "fa56d9fe-0743-410b-a075-54f61728c029",
   "metadata": {
    "tags": []
   },
   "outputs": [],
   "source": [
    "for max_depth, min_child_weight in param_combinations:\n",
    "    \n",
    "    score_folds = []\n",
    "    #クロスバリデーションを行う\n",
    "    #学習データを4つに分割し、うち1つをバリデーションデータとすることを、バリデーションデータを変えて繰り返す。\n",
    "    \n",
    "    kf = KFold(n_splits = 4, shuffle = True, random_state = 123456)\n",
    "    for tr_idx, va_idx in kf.split(train_x):\n",
    "        #学習データを学習データとバリデーションデータに分ける\n",
    "        tr_x, va_x = train_x.iloc[tr_idx], train_x.iloc[va_idx]\n",
    "        tr_y, va_y = train_y.iloc[tr_idx], train_y.iloc[va_idx]\n",
    "        \n",
    "        #モデルの学習を行う\n",
    "        model = XGBClassifier(n_estimators = 20, random_state = 71,\n",
    "                              max_depth = max_depth, min_child_weight = min_child_weight)\n",
    "        model.fit(tr_x, tr_y)\n",
    "        \n",
    "        #バリデーションデータでのスコアを計算し、保存する。\n",
    "        va_pred = model.predict_proba(va_x)[:, 1]\n",
    "        logloss = log_loss(va_y, va_pred)\n",
    "        score_folds.append(logloss)\n",
    "        \n",
    "    #各foldのスコアを平均する\n",
    "    score_mean = np.mean(score_folds)\n",
    "    \n",
    "    #バラメータの組み合わせ、それに対するスコアを保存する\n",
    "    params.append((max_depth, min_child_weight))\n",
    "    scores.append(score_mean)"
   ]
  },
  {
   "cell_type": "markdown",
   "id": "8e5994da-529d-40ed-b5dc-b999e96f465d",
   "metadata": {},
   "source": [
    "各パラメータの組み合わせごとに、クロスバリデーションで評価を行う。出力された結果が最適のmax_depthとmin_child_weight"
   ]
  },
  {
   "cell_type": "code",
   "execution_count": 84,
   "id": "8f3f5088-2451-4f03-9890-0f89d8ad5359",
   "metadata": {},
   "outputs": [
    {
     "name": "stdout",
     "output_type": "stream",
     "text": [
      "max_depth: 3, min_child_weight: 2.0\n"
     ]
    }
   ],
   "source": [
    "best_idx = np.argsort(scores)[0]\n",
    "best_param = params[best_idx]\n",
    "print(f'max_depth: {best_param[0]}, min_child_weight: {best_param[1]}')"
   ]
  },
  {
   "cell_type": "markdown",
   "id": "7f403037-5aaa-46dd-9e50-d2cb39aa3ecc",
   "metadata": {},
   "source": [
    "np.sort():二次元のndarrayに適応すると各行・各列の値が別々に照準にソートされたndarrayを取得できる。\\\n",
    "np.argsort():特定の行、または列を基準にソートソートされた値ではなくインデックスのndarrayを返す\\\n",
    "参考url:https://note.nkmk.me/python-numpy-sort-argsort/"
   ]
  },
  {
   "cell_type": "markdown",
   "id": "117bacdb-a7a0-4ae6-ab20-4952547f51be",
   "metadata": {},
   "source": [
    "# ロジスティック回帰用の特徴量の作成"
   ]
  },
  {
   "cell_type": "code",
   "execution_count": 65,
   "id": "8ed55747-6ea8-42d3-867f-b5e129843734",
   "metadata": {},
   "outputs": [],
   "source": [
    "train_x2 = train.drop(['Survived'], axis = 1)\n",
    "test_x2 = test.copy()"
   ]
  },
  {
   "cell_type": "markdown",
   "id": "488a806a-71b6-42dc-b872-21f8bc8f4333",
   "metadata": {},
   "source": [
    "元データをコピーする。"
   ]
  },
  {
   "cell_type": "code",
   "execution_count": 66,
   "id": "03c8da38-04d0-4ee6-ad47-96facb347f05",
   "metadata": {},
   "outputs": [],
   "source": [
    "train_x2 = train_x2.drop(['PassengerId'], axis = 1)\n",
    "test_x2 = test_x2.drop(['PassengerId'], axis = 1)"
   ]
  },
  {
   "cell_type": "markdown",
   "id": "fed88529-8e10-4b8c-bb5c-2854360be199",
   "metadata": {},
   "source": [
    "変数PassengerIdを除外する。"
   ]
  },
  {
   "cell_type": "code",
   "execution_count": 67,
   "id": "ac0ad001-09e1-4e4b-b730-2421f7f5fb4b",
   "metadata": {},
   "outputs": [],
   "source": [
    "train_x2 = train_x2.drop(['Name', 'Ticket', 'Cabin'], axis = 1)\n",
    "test_x2 = test_x2.drop(['Name', 'Ticket', 'Cabin'], axis = 1)"
   ]
  },
  {
   "cell_type": "markdown",
   "id": "4bac09d6-f7a8-4f84-bb46-2a6adcf62531",
   "metadata": {},
   "source": [
    "変数Name, Ticket, Cabinを除外する。"
   ]
  },
  {
   "cell_type": "code",
   "execution_count": 68,
   "id": "c790a7c1-819e-4c56-929a-98f1114693d5",
   "metadata": {},
   "outputs": [
    {
     "data": {
      "text/plain": [
       "OneHotEncoder(sparse=False)"
      ]
     },
     "execution_count": 68,
     "metadata": {},
     "output_type": "execute_result"
    }
   ],
   "source": [
    "cat_cols = ['Sex', 'Embarked', 'Pclass']\n",
    "ohe = OneHotEncoder(categories = 'auto', sparse = False)\n",
    "ohe.fit(train_x2[cat_cols].fillna('NA'))"
   ]
  },
  {
   "cell_type": "markdown",
   "id": "2ecde557-37b3-4453-b43b-7c3f9aecf70d",
   "metadata": {},
   "source": [
    "one-hot encodingを行う。"
   ]
  },
  {
   "cell_type": "code",
   "execution_count": 69,
   "id": "363e6e53-5d2f-43e5-b8f6-2cbafba0eed4",
   "metadata": {},
   "outputs": [],
   "source": [
    "ohe_columns = []\n",
    "for i, c in enumerate(cat_cols):\n",
    "    ohe_columns += {f'{c}_{v}' for v in ohe.categories_[i]}"
   ]
  },
  {
   "cell_type": "markdown",
   "id": "5df87fe3-91ad-43fa-95ef-a0ba9c871f74",
   "metadata": {},
   "source": [
    "one-hot encodingのダミー変数の列名を作成する。"
   ]
  },
  {
   "cell_type": "code",
   "execution_count": 70,
   "id": "dc62cab0-dd2e-469f-997b-9452a6994a15",
   "metadata": {},
   "outputs": [],
   "source": [
    "ohe_train_x2 = pd.DataFrame(ohe.transform(train_x2[cat_cols].fillna('NA')), columns = ohe_columns)\n",
    "ohe_test_x2 = pd.DataFrame(ohe.transform(test_x2[cat_cols].fillna('NA')), columns = ohe_columns)"
   ]
  },
  {
   "cell_type": "markdown",
   "id": "30293bfc-b5f2-4f16-95c1-f3375ca32423",
   "metadata": {},
   "source": [
    "one-hot encoding済みの変換を行う。"
   ]
  },
  {
   "cell_type": "code",
   "execution_count": 71,
   "id": "15339e2e-baf4-41d0-aa19-597afcbf9fab",
   "metadata": {},
   "outputs": [],
   "source": [
    "train_x2 = train_x2.drop(cat_cols, axis = 1)\n",
    "test_x2 = test_x2.drop(cat_cols, axis = 1)"
   ]
  },
  {
   "cell_type": "markdown",
   "id": "a4b6ca18-8a3f-4745-8f82-18c44c77a1f9",
   "metadata": {},
   "source": [
    "one-hot encodingによる変数を除外する。"
   ]
  },
  {
   "cell_type": "code",
   "execution_count": 72,
   "id": "c8b54d1b-5da0-43dc-9a0e-2edc81038867",
   "metadata": {},
   "outputs": [],
   "source": [
    "train_x2 = pd.concat([train_x2, ohe_train_x2], axis = 1)\n",
    "test_x2 = pd.concat([test_x2, ohe_test_x2], axis = 1)"
   ]
  },
  {
   "cell_type": "markdown",
   "id": "2033bc7e-37c2-423e-981d-bbca5eb8ca50",
   "metadata": {},
   "source": [
    "one-hot emcodingで変換された変数を結合する。"
   ]
  },
  {
   "cell_type": "code",
   "execution_count": 73,
   "id": "7a231d1e-95dc-4381-af03-9518e9156417",
   "metadata": {},
   "outputs": [],
   "source": [
    "num_cols = ['Age', 'SibSp', 'Parch', 'Fare']\n",
    "for col in num_cols:\n",
    "    train_x2[col].fillna(train_x2[col].mean(), inplace = True)\n",
    "    test_x2[col].fillna(train_x2[col].mean(), inplace = True)"
   ]
  },
  {
   "cell_type": "markdown",
   "id": "70167f7d-dda8-48ab-8f51-81537fc03d92",
   "metadata": {},
   "source": [
    "数値変数の欠損値を学習データの平均で埋める。"
   ]
  },
  {
   "cell_type": "code",
   "execution_count": 74,
   "id": "86985349-7e38-48d9-847f-afa36a673e06",
   "metadata": {},
   "outputs": [],
   "source": [
    "train_x2['Fare'] = np.log1p(train_x2['Fare'])\n",
    "test_x2['Fare'] = np.log1p(test_x2['Fare'])"
   ]
  },
  {
   "cell_type": "markdown",
   "id": "43aeda0d-1653-4cc2-8236-0fe1a4e63f93",
   "metadata": {},
   "source": [
    "変数Fareを対数変換する。"
   ]
  },
  {
   "cell_type": "markdown",
   "id": "c816d6c6-e5c0-444e-a05e-177224811d94",
   "metadata": {},
   "source": [
    "# アンサンブル"
   ]
  },
  {
   "cell_type": "code",
   "execution_count": 75,
   "id": "675f6588-b306-411e-bc54-e2e481956ea7",
   "metadata": {},
   "outputs": [],
   "source": [
    "model_xgb = XGBClassifier(n_estimators = 20, random_state = 71)\n",
    "model_xgb.fit(train_x, train_y)\n",
    "pred_xgb = model_xgb.predict_proba(test_x)[:, 1]"
   ]
  },
  {
   "cell_type": "markdown",
   "id": "cc1972c5-8db1-43f5-8e53-7e1991bb3bac",
   "metadata": {},
   "source": [
    "xgboostモデル"
   ]
  },
  {
   "cell_type": "code",
   "execution_count": 82,
   "id": "b3f39841-23af-4ad4-82ea-37e881599eb7",
   "metadata": {},
   "outputs": [],
   "source": [
    "model_lr = LogisticRegression(solver='lbfgs', max_iter=300)\n",
    "model_lr.fit(train_x2, train_y)\n",
    "pred_lr = model_lr.predict_proba(test_x2)[:, 1]"
   ]
  },
  {
   "cell_type": "markdown",
   "id": "c3abd54d-fe64-4566-8bdb-ff5d942af7c2",
   "metadata": {},
   "source": [
    "ロジスティック回帰モデル\n",
    "xgboostモデルとは異なる特徴量を入れる必要があるので別途train_x2, test_x2を作成した"
   ]
  },
  {
   "cell_type": "code",
   "execution_count": 80,
   "id": "126699b2-8600-4642-87b0-d8a023ada27f",
   "metadata": {},
   "outputs": [],
   "source": [
    "pred = pred_xgb * 0.8 + pred_lr * 0.2\n",
    "pred_label = np.where(pred > 0.5, 1, 0)"
   ]
  },
  {
   "cell_type": "markdown",
   "id": "edc96234-5b03-409f-b391-0d007a86f837",
   "metadata": {},
   "source": [
    "予測値の加重平均を取る。"
   ]
  }
 ],
 "metadata": {
  "kernelspec": {
   "display_name": "Python 3 (ipykernel)",
   "language": "python",
   "name": "python3"
  },
  "language_info": {
   "codemirror_mode": {
    "name": "ipython",
    "version": 3
   },
   "file_extension": ".py",
   "mimetype": "text/x-python",
   "name": "python",
   "nbconvert_exporter": "python",
   "pygments_lexer": "ipython3",
   "version": "3.9.12"
  },
  "toc-showmarkdowntxt": false,
  "vscode": {
   "interpreter": {
    "hash": "7c7da24df9ed2709a5963e01e5c694b36f4218b9d893e201635b9542b8c007e8"
   }
  }
 },
 "nbformat": 4,
 "nbformat_minor": 5
}
