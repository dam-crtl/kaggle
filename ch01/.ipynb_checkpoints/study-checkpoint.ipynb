{
 "cells": [
  {
   "cell_type": "code",
   "execution_count": 1,
   "id": "bfb4fc94",
   "metadata": {},
   "outputs": [],
   "source": [
    "from sklearn.linear_model import LogisticRegression\n",
    "from sklearn.preprocessing import OneHotEncoder\n",
    "import itertools\n",
    "from sklearn.model_selection import KFold\n",
    "from sklearn.metrics import log_loss, accuracy_score\n",
    "from xgboost import XGBClassifier \n",
    "from sklearn.preprocessing import LabelEncoder\n",
    "import numpy as np\n",
    "import pandas as pd"
   ]
  },
  {
   "cell_type": "markdown",
   "id": "2c152be6",
   "metadata": {},
   "source": [
    "まずは導入  \n",
    "Macの環境では「esc + h」でショートカットを確認可能  \n",
    "「esc + m」でマークダウンに変更可能  \n",
    "「esc + y」でコードに変更可能"
   ]
  },
  {
   "cell_type": "code",
   "execution_count": 2,
   "id": "8a8d4cee",
   "metadata": {},
   "outputs": [],
   "source": [
    "train = pd.read_csv('../input/ch01-titanic/train.csv')\n",
    "test = pd.read_csv('../input/ch01-titanic/test.csv')"
   ]
  },
  {
   "cell_type": "markdown",
   "id": "d3d1e19c",
   "metadata": {},
   "source": [
    "学習データ、テストデータの読み込みを行なっている。"
   ]
  },
  {
   "cell_type": "code",
   "execution_count": 3,
   "id": "1c17641c",
   "metadata": {},
   "outputs": [],
   "source": [
    "train_x = train.drop(['Survived'], axis = 1)\n",
    "train_y = train['Survived']"
   ]
  },
  {
   "cell_type": "markdown",
   "id": "1028c729",
   "metadata": {},
   "source": [
    "学習データは特徴量と目的変数に分けている。"
   ]
  },
  {
   "cell_type": "code",
   "execution_count": 4,
   "id": "5dfb2cac",
   "metadata": {
    "tags": []
   },
   "outputs": [],
   "source": [
    "test_x = test.copy()"
   ]
  },
  {
   "cell_type": "markdown",
   "id": "747ad68c",
   "metadata": {},
   "source": [
    "テストデータは特徴量のみなのでそのままコピーしている。\n",
    "pythonのコピーについて「deepcopy」とかいうのがあるらしくcopyとの違いがわからないので参考urlを貼っておく。\n",
    "https://murashun.jp/article/programming/python/python-list-copy-deepcopy.html"
   ]
  },
  {
   "cell_type": "markdown",
   "id": "67ae949f",
   "metadata": {},
   "source": [
    "# 特徴量作成"
   ]
  },
  {
   "cell_type": "code",
   "execution_count": 5,
   "id": "b96fe62c",
   "metadata": {},
   "outputs": [],
   "source": [
    "train_x = train_x.drop(['PassengerId'], axis = 1)\n",
    "test_x = test_x.drop(['PassengerId'], axis = 1)"
   ]
  },
  {
   "cell_type": "markdown",
   "id": "9cef4cec",
   "metadata": {},
   "source": [
    "変数PassengerIdを除外している。"
   ]
  },
  {
   "cell_type": "code",
   "execution_count": 9,
   "id": "b26b6294",
   "metadata": {},
   "outputs": [],
   "source": [
    "train_x = train_x.drop(['Name', 'Ticket', 'Cabin'], axis = 1)\n",
    "test_x = test_x.drop(['Name', 'Ticket', 'Cabin'], axis = 1)"
   ]
  },
  {
   "cell_type": "markdown",
   "id": "28afc5bc",
   "metadata": {},
   "source": [
    "変数Name, Ticket, Cabinを除外する。"
   ]
  },
  {
   "cell_type": "code",
   "execution_count": 10,
   "id": "fcab4fc6",
   "metadata": {},
   "outputs": [],
   "source": [
    "for c in ['Sex', 'Embarked']:\n",
    "    # 学習データに基づいてどう変換するかを定める\n",
    "    le = LabelEncoder()\n",
    "    le.fit(train_x[c].fillna('NA'))\n",
    "    \n",
    "    # 学習データ、テストデータを変換する\n",
    "    train_x[c] = le.transform(train_x[c].fillna('NA'))\n",
    "    test_x[c] = le.transform(test_x[c].fillna('NA'))"
   ]
  },
  {
   "cell_type": "markdown",
   "id": "9bb23b88",
   "metadata": {},
   "source": [
    "それぞれのカテゴリ変数にlabel encodeingを適用している。\n",
    "\n",
    "Label Encoder:　データ（特にラベル、質的データについて数値に変換する）\n",
    "le.fit(data):学習\n",
    "le.transform(data):適応\n",
    "\n",
    "説明url:https://scikit-learn.org/stable/modules/generated/sklearn.preprocessing.LabelEncoder.html"
   ]
  },
  {
   "cell_type": "markdown",
   "id": "0583cb47-f294-4737-8c41-ef4b0f329512",
   "metadata": {},
   "source": [
    "# モデル作成"
   ]
  },
  {
   "cell_type": "code",
   "execution_count": 11,
   "id": "ce140164-f011-4448-868e-2121f246696a",
   "metadata": {},
   "outputs": [
    {
     "data": {
      "text/plain": [
       "XGBClassifier(base_score=0.5, booster='gbtree', callbacks=None,\n",
       "              colsample_bylevel=1, colsample_bynode=1, colsample_bytree=1,\n",
       "              early_stopping_rounds=None, enable_categorical=False,\n",
       "              eval_metric=None, gamma=0, gpu_id=-1, grow_policy='depthwise',\n",
       "              importance_type=None, interaction_constraints='',\n",
       "              learning_rate=0.300000012, max_bin=256, max_cat_to_onehot=4,\n",
       "              max_delta_step=0, max_depth=6, max_leaves=0, min_child_weight=1,\n",
       "              missing=nan, monotone_constraints='()', n_estimators=20, n_jobs=0,\n",
       "              num_parallel_tree=1, predictor='auto', random_state=71,\n",
       "              reg_alpha=0, reg_lambda=1, ...)"
      ]
     },
     "execution_count": 11,
     "metadata": {},
     "output_type": "execute_result"
    }
   ],
   "source": [
    "model = XGBClassifier(n_estimators = 20, random_state = 71)\n",
    "model.fit(train_x, train_y)"
   ]
  },
  {
   "cell_type": "code",
   "execution_count": null,
   "id": "670cc343-d95e-43b7-a672-2e419f84289a",
   "metadata": {},
   "outputs": [],
   "source": []
  },
  {
   "cell_type": "code",
   "execution_count": null,
   "id": "a91f0886-06ea-460c-9f15-3a0367b6377c",
   "metadata": {},
   "outputs": [],
   "source": []
  },
  {
   "cell_type": "code",
   "execution_count": null,
   "id": "e9217e99-d641-48cf-bb87-129a9d3cebb7",
   "metadata": {},
   "outputs": [],
   "source": []
  }
 ],
 "metadata": {
  "kernelspec": {
   "display_name": "Python 3 (ipykernel)",
   "language": "python",
   "name": "python3"
  },
  "language_info": {
   "codemirror_mode": {
    "name": "ipython",
    "version": 3
   },
   "file_extension": ".py",
   "mimetype": "text/x-python",
   "name": "python",
   "nbconvert_exporter": "python",
   "pygments_lexer": "ipython3",
   "version": "3.9.12"
  },
  "toc-showmarkdowntxt": false,
  "vscode": {
   "interpreter": {
    "hash": "7c7da24df9ed2709a5963e01e5c694b36f4218b9d893e201635b9542b8c007e8"
   }
  }
 },
 "nbformat": 4,
 "nbformat_minor": 5
}
